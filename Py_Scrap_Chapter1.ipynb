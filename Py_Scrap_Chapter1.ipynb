{
  "nbformat": 4,
  "nbformat_minor": 0,
  "metadata": {
    "kernelspec": {
      "display_name": "Python 3",
      "language": "python",
      "name": "python3"
    },
    "language_info": {
      "codemirror_mode": {
        "name": "ipython",
        "version": 3
      },
      "file_extension": ".py",
      "mimetype": "text/x-python",
      "name": "python",
      "nbconvert_exporter": "python",
      "pygments_lexer": "ipython3",
      "version": "3.7.4"
    },
    "colab": {
      "name": "Py.Scrap Chapter1.ipynb",
      "provenance": [],
      "include_colab_link": true
    }
  },
  "cells": [
    {
      "cell_type": "markdown",
      "metadata": {
        "id": "view-in-github",
        "colab_type": "text"
      },
      "source": [
        "<a href=\"https://colab.research.google.com/github/Makkanatony9110/underscore/blob/master/Py_Scrap_Chapter1.ipynb\" target=\"_parent\"><img src=\"https://colab.research.google.com/assets/colab-badge.svg\" alt=\"Open In Colab\"/></a>"
      ]
    },
    {
      "cell_type": "code",
      "metadata": {
        "id": "CKHxfDXjCjQE",
        "colab_type": "code",
        "colab": {},
        "outputId": "490ec8a1-39bd-4dc1-84d4-da63d5c9ddb4"
      },
      "source": [
        "\"This is a string value\""
      ],
      "execution_count": 0,
      "outputs": [
        {
          "output_type": "execute_result",
          "data": {
            "text/plain": [
              "'This is a string value'"
            ]
          },
          "metadata": {
            "tags": []
          },
          "execution_count": 3
        }
      ]
    },
    {
      "cell_type": "code",
      "metadata": {
        "id": "mTkLKurLCjQM",
        "colab_type": "code",
        "colab": {},
        "outputId": "63e2546f-6ee1-4c11-ecd5-a8737713d312"
      },
      "source": [
        "\"This is also a string value\""
      ],
      "execution_count": 0,
      "outputs": [
        {
          "output_type": "execute_result",
          "data": {
            "text/plain": [
              "'This is also a string value'"
            ]
          },
          "metadata": {
            "tags": []
          },
          "execution_count": 6
        }
      ]
    },
    {
      "cell_type": "code",
      "metadata": {
        "id": "9DlBnxgaCjQQ",
        "colab_type": "code",
        "colab": {},
        "outputId": "af1e774f-2ed4-4712-a387-1174f357d6d1"
      },
      "source": [
        "\"String can be \" + 'added'"
      ],
      "execution_count": 0,
      "outputs": [
        {
          "output_type": "execute_result",
          "data": {
            "text/plain": [
              "'String can be added'"
            ]
          },
          "metadata": {
            "tags": []
          },
          "execution_count": 7
        }
      ]
    },
    {
      "cell_type": "code",
      "metadata": {
        "id": "jqFeQlYbCjQV",
        "colab_type": "code",
        "colab": {},
        "outputId": "108f44da-fc82-445b-c6e2-ca3bcc2890fa"
      },
      "source": [
        "\"But not to number\" + 5"
      ],
      "execution_count": 0,
      "outputs": [
        {
          "output_type": "error",
          "ename": "TypeError",
          "evalue": "can only concatenate str (not \"int\") to str",
          "traceback": [
            "\u001b[0;31m---------------------------------------------------------------------------\u001b[0m",
            "\u001b[0;31mTypeError\u001b[0m                                 Traceback (most recent call last)",
            "\u001b[0;32m<ipython-input-8-6e62fd5a7e81>\u001b[0m in \u001b[0;36m<module>\u001b[0;34m\u001b[0m\n\u001b[0;32m----> 1\u001b[0;31m \u001b[0;34m\"But not to number\"\u001b[0m \u001b[0;34m+\u001b[0m \u001b[0;36m5\u001b[0m\u001b[0;34m\u001b[0m\u001b[0;34m\u001b[0m\u001b[0m\n\u001b[0m",
            "\u001b[0;31mTypeError\u001b[0m: can only concatenate str (not \"int\") to str"
          ]
        }
      ]
    },
    {
      "cell_type": "code",
      "metadata": {
        "id": "Y9ec30_GCjQZ",
        "colab_type": "code",
        "colab": {},
        "outputId": "3044b117-5631-4331-ea28-0f2a3184a4c3"
      },
      "source": [
        "\"So we convert it first:\" +str(5)"
      ],
      "execution_count": 0,
      "outputs": [
        {
          "output_type": "execute_result",
          "data": {
            "text/plain": [
              "'So we convert it first:5'"
            ]
          },
          "metadata": {
            "tags": []
          },
          "execution_count": 9
        }
      ]
    },
    {
      "cell_type": "code",
      "metadata": {
        "id": "0B8eRXbzCjQe",
        "colab_type": "code",
        "colab": {},
        "outputId": "ab4a3d2c-b371-484b-cc38-ed22e691babe"
      },
      "source": [
        "False and False"
      ],
      "execution_count": 0,
      "outputs": [
        {
          "output_type": "execute_result",
          "data": {
            "text/plain": [
              "False"
            ]
          },
          "metadata": {
            "tags": []
          },
          "execution_count": 11
        }
      ]
    },
    {
      "cell_type": "code",
      "metadata": {
        "id": "oGi3sy_3CjQi",
        "colab_type": "code",
        "colab": {},
        "outputId": "5965723f-25b2-4fa7-8889-5c7c1f3907d0"
      },
      "source": [
        "False and True"
      ],
      "execution_count": 0,
      "outputs": [
        {
          "output_type": "execute_result",
          "data": {
            "text/plain": [
              "False"
            ]
          },
          "metadata": {
            "tags": []
          },
          "execution_count": 12
        }
      ]
    },
    {
      "cell_type": "code",
      "metadata": {
        "id": "cc6xY6brCjQm",
        "colab_type": "code",
        "colab": {},
        "outputId": "3e02c78e-0f54-4a8b-ff21-d368c629ec78"
      },
      "source": [
        "False or True"
      ],
      "execution_count": 0,
      "outputs": [
        {
          "output_type": "execute_result",
          "data": {
            "text/plain": [
              "True"
            ]
          },
          "metadata": {
            "tags": []
          },
          "execution_count": 13
        }
      ]
    },
    {
      "cell_type": "code",
      "metadata": {
        "id": "RXDmIcHPCjQu",
        "colab_type": "code",
        "colab": {},
        "outputId": "dbfe893c-4336-4638-d74d-21b53a0b0904"
      },
      "source": [
        "not False"
      ],
      "execution_count": 0,
      "outputs": [
        {
          "output_type": "execute_result",
          "data": {
            "text/plain": [
              "True"
            ]
          },
          "metadata": {
            "tags": []
          },
          "execution_count": 14
        }
      ]
    },
    {
      "cell_type": "code",
      "metadata": {
        "id": "te2-OwvqCjQx",
        "colab_type": "code",
        "colab": {},
        "outputId": "dd1d45e4-de10-48bd-c9c4-02eaad515518"
      },
      "source": [
        "not True"
      ],
      "execution_count": 0,
      "outputs": [
        {
          "output_type": "execute_result",
          "data": {
            "text/plain": [
              "False"
            ]
          },
          "metadata": {
            "tags": []
          },
          "execution_count": 15
        }
      ]
    },
    {
      "cell_type": "code",
      "metadata": {
        "id": "9ZZ1AJMSCjQ2",
        "colab_type": "code",
        "colab": {},
        "outputId": "8064d257-9b85-4150-e603-2e64f63de182"
      },
      "source": [
        "not False and True"
      ],
      "execution_count": 0,
      "outputs": [
        {
          "output_type": "execute_result",
          "data": {
            "text/plain": [
              "True"
            ]
          },
          "metadata": {
            "tags": []
          },
          "execution_count": 16
        }
      ]
    },
    {
      "cell_type": "code",
      "metadata": {
        "id": "W7QCWSe8CjQ5",
        "colab_type": "code",
        "colab": {},
        "outputId": "b4ddb353-88ec-4937-987e-30bd31862778"
      },
      "source": [
        "None + 5"
      ],
      "execution_count": 0,
      "outputs": [
        {
          "output_type": "error",
          "ename": "TypeError",
          "evalue": "unsupported operand type(s) for +: 'NoneType' and 'int'",
          "traceback": [
            "\u001b[0;31m---------------------------------------------------------------------------\u001b[0m",
            "\u001b[0;31mTypeError\u001b[0m                                 Traceback (most recent call last)",
            "\u001b[0;32m<ipython-input-17-a9346279b633>\u001b[0m in \u001b[0;36m<module>\u001b[0;34m\u001b[0m\n\u001b[0;32m----> 1\u001b[0;31m \u001b[0;32mNone\u001b[0m \u001b[0;34m+\u001b[0m \u001b[0;36m5\u001b[0m\u001b[0;34m\u001b[0m\u001b[0;34m\u001b[0m\u001b[0m\n\u001b[0m",
            "\u001b[0;31mTypeError\u001b[0m: unsupported operand type(s) for +: 'NoneType' and 'int'"
          ]
        }
      ]
    },
    {
      "cell_type": "code",
      "metadata": {
        "id": "C9P_TOGeCjQ9",
        "colab_type": "code",
        "colab": {},
        "outputId": "c4e509e4-8c81-447a-a856-a836be5d623d"
      },
      "source": [
        "4 < 3"
      ],
      "execution_count": 0,
      "outputs": [
        {
          "output_type": "execute_result",
          "data": {
            "text/plain": [
              "False"
            ]
          },
          "metadata": {
            "tags": []
          },
          "execution_count": 18
        }
      ]
    },
    {
      "cell_type": "code",
      "metadata": {
        "id": "ivnyP2ZICjQ_",
        "colab_type": "code",
        "colab": {},
        "outputId": "ecfd6f1b-7dde-459b-d85c-c62dfef9e521"
      },
      "source": [
        "4 >3"
      ],
      "execution_count": 0,
      "outputs": [
        {
          "output_type": "execute_result",
          "data": {
            "text/plain": [
              "True"
            ]
          },
          "metadata": {
            "tags": []
          },
          "execution_count": 19
        }
      ]
    },
    {
      "cell_type": "code",
      "metadata": {
        "id": "fjPVNuXUCjRD",
        "colab_type": "code",
        "colab": {},
        "outputId": "42ba9cfd-b5fa-4d00-a02b-ec62d93f2f25"
      },
      "source": [
        "100 >= 10"
      ],
      "execution_count": 0,
      "outputs": [
        {
          "output_type": "execute_result",
          "data": {
            "text/plain": [
              "True"
            ]
          },
          "metadata": {
            "tags": []
          },
          "execution_count": 20
        }
      ]
    },
    {
      "cell_type": "code",
      "metadata": {
        "id": "Tp-I4leiCjRH",
        "colab_type": "code",
        "colab": {},
        "outputId": "c434ae16-cf37-4a0b-a106-91fb44be9fb0"
      },
      "source": [
        "10 ==10"
      ],
      "execution_count": 0,
      "outputs": [
        {
          "output_type": "execute_result",
          "data": {
            "text/plain": [
              "True"
            ]
          },
          "metadata": {
            "tags": []
          },
          "execution_count": 21
        }
      ]
    },
    {
      "cell_type": "code",
      "metadata": {
        "id": "bhx_Kj3DCjRL",
        "colab_type": "code",
        "colab": {},
        "outputId": "c52b3f4c-c976-41cb-f7f7-cb48fa7042e4"
      },
      "source": [
        "None ==False"
      ],
      "execution_count": 0,
      "outputs": [
        {
          "output_type": "execute_result",
          "data": {
            "text/plain": [
              "False"
            ]
          },
          "metadata": {
            "tags": []
          },
          "execution_count": 22
        }
      ]
    },
    {
      "cell_type": "code",
      "metadata": {
        "id": "Pv8Zkbz3CjRO",
        "colab_type": "code",
        "colab": {},
        "outputId": "167d2111-d288-4c6b-9b7f-653e817e13fb"
      },
      "source": [
        "False = 0"
      ],
      "execution_count": 0,
      "outputs": [
        {
          "output_type": "error",
          "ename": "SyntaxError",
          "evalue": "can't assign to keyword (<ipython-input-23-223dbc74e028>, line 1)",
          "traceback": [
            "\u001b[0;36m  File \u001b[0;32m\"<ipython-input-23-223dbc74e028>\"\u001b[0;36m, line \u001b[0;32m1\u001b[0m\n\u001b[0;31m    False = 0\u001b[0m\n\u001b[0m             ^\u001b[0m\n\u001b[0;31mSyntaxError\u001b[0m\u001b[0;31m:\u001b[0m can't assign to keyword\n"
          ]
        }
      ]
    },
    {
      "cell_type": "code",
      "metadata": {
        "id": "wusEpUuvCjRR",
        "colab_type": "code",
        "colab": {},
        "outputId": "510525df-a500-4215-d826-a53bd6eead24"
      },
      "source": [
        "True == 1"
      ],
      "execution_count": 0,
      "outputs": [
        {
          "output_type": "execute_result",
          "data": {
            "text/plain": [
              "True"
            ]
          },
          "metadata": {
            "tags": []
          },
          "execution_count": 25
        }
      ]
    },
    {
      "cell_type": "code",
      "metadata": {
        "id": "cfjtFEFcCjRT",
        "colab_type": "code",
        "colab": {},
        "outputId": "b49be10a-c763-49eb-d702-70f417f80834"
      },
      "source": [
        "True == 2"
      ],
      "execution_count": 0,
      "outputs": [
        {
          "output_type": "execute_result",
          "data": {
            "text/plain": [
              "False"
            ]
          },
          "metadata": {
            "tags": []
          },
          "execution_count": 26
        }
      ]
    },
    {
      "cell_type": "code",
      "metadata": {
        "id": "oTudoC5hCjRW",
        "colab_type": "code",
        "colab": {},
        "outputId": "43235025-fc34-4443-af1d-2e84f3ad689f"
      },
      "source": [
        "2! =3"
      ],
      "execution_count": 0,
      "outputs": [
        {
          "output_type": "error",
          "ename": "SyntaxError",
          "evalue": "invalid syntax (<ipython-input-27-9ddb3b46ba63>, line 1)",
          "traceback": [
            "\u001b[0;36m  File \u001b[0;32m\"<ipython-input-27-9ddb3b46ba63>\"\u001b[0;36m, line \u001b[0;32m1\u001b[0m\n\u001b[0;31m    2! =3\u001b[0m\n\u001b[0m     ^\u001b[0m\n\u001b[0;31mSyntaxError\u001b[0m\u001b[0;31m:\u001b[0m invalid syntax\n"
          ]
        }
      ]
    },
    {
      "cell_type": "code",
      "metadata": {
        "id": "zas0rZHXCjRZ",
        "colab_type": "code",
        "colab": {},
        "outputId": "46941b8e-38fd-42d9-dc41-d088a15c5080"
      },
      "source": [
        "2 ! = 3"
      ],
      "execution_count": 0,
      "outputs": [
        {
          "output_type": "error",
          "ename": "SyntaxError",
          "evalue": "invalid syntax (<ipython-input-28-ddd7bf887ad3>, line 1)",
          "traceback": [
            "\u001b[0;36m  File \u001b[0;32m\"<ipython-input-28-ddd7bf887ad3>\"\u001b[0;36m, line \u001b[0;32m1\u001b[0m\n\u001b[0;31m    2 ! = 3\u001b[0m\n\u001b[0m      ^\u001b[0m\n\u001b[0;31mSyntaxError\u001b[0m\u001b[0;31m:\u001b[0m invalid syntax\n"
          ]
        }
      ]
    },
    {
      "cell_type": "code",
      "metadata": {
        "id": "SlD3MX8dCjRc",
        "colab_type": "code",
        "colab": {},
        "outputId": "f31d9824-efad-4463-f283-5ce9426ccdf9"
      },
      "source": [
        "2 != 3"
      ],
      "execution_count": 0,
      "outputs": [
        {
          "output_type": "execute_result",
          "data": {
            "text/plain": [
              "True"
            ]
          },
          "metadata": {
            "tags": []
          },
          "execution_count": 29
        }
      ]
    },
    {
      "cell_type": "code",
      "metadata": {
        "id": "stbjvTvyCjRf",
        "colab_type": "code",
        "colab": {},
        "outputId": "2fe2ca6c-178a-4b4a-c039-2d3566143278"
      },
      "source": [
        "2 != '2'"
      ],
      "execution_count": 0,
      "outputs": [
        {
          "output_type": "execute_result",
          "data": {
            "text/plain": [
              "True"
            ]
          },
          "metadata": {
            "tags": []
          },
          "execution_count": 30
        }
      ]
    },
    {
      "cell_type": "code",
      "metadata": {
        "id": "KsSQJV19CjRh",
        "colab_type": "code",
        "colab": {},
        "outputId": "9b514a65-5645-4562-d0c0-de6943473846"
      },
      "source": [
        "print(\"Nice to meet you\")"
      ],
      "execution_count": 0,
      "outputs": [
        {
          "output_type": "stream",
          "text": [
            "Nice to meet you\n"
          ],
          "name": "stdout"
        }
      ]
    },
    {
      "cell_type": "code",
      "metadata": {
        "id": "5bKiXUtUCjRl",
        "colab_type": "code",
        "colab": {},
        "outputId": "87128c88-ef97-4349-a422-0776ac405d46"
      },
      "source": [
        "print(\"Nice\",\"to\",\"meet\",\"you!\")"
      ],
      "execution_count": 0,
      "outputs": [
        {
          "output_type": "stream",
          "text": [
            "Nice to meet you!\n"
          ],
          "name": "stdout"
        }
      ]
    },
    {
      "cell_type": "code",
      "metadata": {
        "id": "huouWV43CjRo",
        "colab_type": "code",
        "colab": {},
        "outputId": "2058e5a5-1a9d-409e-ce1a-e1c5d504d4d9"
      },
      "source": [
        "print(\"HE\",\"LLO\",sep='--')"
      ],
      "execution_count": 0,
      "outputs": [
        {
          "output_type": "stream",
          "text": [
            "HE--LLO\n"
          ],
          "name": "stdout"
        }
      ]
    },
    {
      "cell_type": "code",
      "metadata": {
        "id": "MQBIDAL2CjRr",
        "colab_type": "code",
        "colab": {},
        "outputId": "fbc5e4b3-7ff6-48c2-8ece-7c8aade463fc"
      },
      "source": [
        "print(\"Hello\", end = \"!!!/n\")"
      ],
      "execution_count": 0,
      "outputs": [
        {
          "output_type": "stream",
          "text": [
            "Hello!!!/n"
          ],
          "name": "stdout"
        }
      ]
    },
    {
      "cell_type": "code",
      "metadata": {
        "id": "fmqKug9KCjRu",
        "colab_type": "code",
        "colab": {}
      },
      "source": [
        "var_a = 3"
      ],
      "execution_count": 0,
      "outputs": []
    },
    {
      "cell_type": "code",
      "metadata": {
        "id": "5ZoKHfMXCjRw",
        "colab_type": "code",
        "colab": {}
      },
      "source": [
        "var_b = 4"
      ],
      "execution_count": 0,
      "outputs": []
    },
    {
      "cell_type": "code",
      "metadata": {
        "id": "5lQ8PYTICjR1",
        "colab_type": "code",
        "colab": {},
        "outputId": "b02ef8b8-9409-4371-9784-058570c1eba1"
      },
      "source": [
        "var_a + var_b + 2"
      ],
      "execution_count": 0,
      "outputs": [
        {
          "output_type": "execute_result",
          "data": {
            "text/plain": [
              "9"
            ]
          },
          "metadata": {
            "tags": []
          },
          "execution_count": 37
        }
      ]
    },
    {
      "cell_type": "code",
      "metadata": {
        "id": "9xARwxvgCjR7",
        "colab_type": "code",
        "colab": {}
      },
      "source": [
        "var_str = \"This is a string\""
      ],
      "execution_count": 0,
      "outputs": []
    },
    {
      "cell_type": "code",
      "metadata": {
        "id": "RdsL_laCCjR-",
        "colab_type": "code",
        "colab": {},
        "outputId": "a1a38e81-4aeb-43a3-e381-6b9485b713a2"
      },
      "source": [
        "print(var_str)"
      ],
      "execution_count": 0,
      "outputs": [
        {
          "output_type": "stream",
          "text": [
            "This is a string\n"
          ],
          "name": "stdout"
        }
      ]
    },
    {
      "cell_type": "code",
      "metadata": {
        "id": "V-uWHBHqCjSC",
        "colab_type": "code",
        "colab": {},
        "outputId": "725caa59-7a76-41c2-9556-cfedf79ffbfc"
      },
      "source": [
        "\"{} : {}\". format(\"A\",\"B\")"
      ],
      "execution_count": 0,
      "outputs": [
        {
          "output_type": "execute_result",
          "data": {
            "text/plain": [
              "'A : B'"
            ]
          },
          "metadata": {
            "tags": []
          },
          "execution_count": 40
        }
      ]
    },
    {
      "cell_type": "code",
      "metadata": {
        "id": "VLlcATXfCjSF",
        "colab_type": "code",
        "colab": {}
      },
      "source": [
        "li = []"
      ],
      "execution_count": 0,
      "outputs": []
    },
    {
      "cell_type": "code",
      "metadata": {
        "id": "66YcQsxNCjSH",
        "colab_type": "code",
        "colab": {}
      },
      "source": [
        "li.append(1)"
      ],
      "execution_count": 0,
      "outputs": []
    },
    {
      "cell_type": "code",
      "metadata": {
        "id": "SL2keb7LCjSL",
        "colab_type": "code",
        "colab": {}
      },
      "source": [
        "li.append(2)"
      ],
      "execution_count": 0,
      "outputs": []
    },
    {
      "cell_type": "code",
      "metadata": {
        "id": "vPic2LoJCjSO",
        "colab_type": "code",
        "colab": {},
        "outputId": "9b0be093-9866-4d5f-8b1a-db1bcc5cb3f3"
      },
      "source": [
        "li.pop()"
      ],
      "execution_count": 0,
      "outputs": [
        {
          "output_type": "execute_result",
          "data": {
            "text/plain": [
              "2"
            ]
          },
          "metadata": {
            "tags": []
          },
          "execution_count": 44
        }
      ]
    },
    {
      "cell_type": "code",
      "metadata": {
        "id": "I8HBzjpeCjSQ",
        "colab_type": "code",
        "colab": {}
      },
      "source": [
        "li = [\"a\",2,False]"
      ],
      "execution_count": 0,
      "outputs": []
    },
    {
      "cell_type": "code",
      "metadata": {
        "id": "sspB8DRTCjST",
        "colab_type": "code",
        "colab": {}
      },
      "source": [
        "li = [[3],[3,4],[1,2,3]]"
      ],
      "execution_count": 0,
      "outputs": []
    },
    {
      "cell_type": "code",
      "metadata": {
        "id": "0cwZZ5weCjSX",
        "colab_type": "code",
        "colab": {}
      },
      "source": [
        "li = [1,2,4,3]"
      ],
      "execution_count": 0,
      "outputs": []
    },
    {
      "cell_type": "code",
      "metadata": {
        "id": "OSpMhc3LCjSa",
        "colab_type": "code",
        "colab": {},
        "outputId": "84cfe19c-0b74-432f-da2d-b3ff26454866"
      },
      "source": [
        "li[0]"
      ],
      "execution_count": 0,
      "outputs": [
        {
          "output_type": "execute_result",
          "data": {
            "text/plain": [
              "1"
            ]
          },
          "metadata": {
            "tags": []
          },
          "execution_count": 48
        }
      ]
    },
    {
      "cell_type": "code",
      "metadata": {
        "id": "QE4u_DlrCjSe",
        "colab_type": "code",
        "colab": {},
        "outputId": "a9f6a947-51e0-43ae-9b9d-ad3ce7025c2b"
      },
      "source": [
        "li[-1]"
      ],
      "execution_count": 0,
      "outputs": [
        {
          "output_type": "execute_result",
          "data": {
            "text/plain": [
              "3"
            ]
          },
          "metadata": {
            "tags": []
          },
          "execution_count": 49
        }
      ]
    },
    {
      "cell_type": "code",
      "metadata": {
        "id": "tXKszMdeCjSh",
        "colab_type": "code",
        "colab": {},
        "outputId": "ff2c58dc-6f03-4836-9966-86dac2e5a515"
      },
      "source": [
        "li[1:3]"
      ],
      "execution_count": 0,
      "outputs": [
        {
          "output_type": "execute_result",
          "data": {
            "text/plain": [
              "[2, 4]"
            ]
          },
          "metadata": {
            "tags": []
          },
          "execution_count": 50
        }
      ]
    },
    {
      "cell_type": "code",
      "metadata": {
        "id": "URBs4GFZCjSk",
        "colab_type": "code",
        "colab": {},
        "outputId": "f9491fa6-2fd6-4202-d301-0b2314f6751d"
      },
      "source": [
        "li[2:]"
      ],
      "execution_count": 0,
      "outputs": [
        {
          "output_type": "execute_result",
          "data": {
            "text/plain": [
              "[4, 3]"
            ]
          },
          "metadata": {
            "tags": []
          },
          "execution_count": 51
        }
      ]
    },
    {
      "cell_type": "code",
      "metadata": {
        "id": "9LRgnYc5CjSn",
        "colab_type": "code",
        "colab": {},
        "outputId": "a5f3aae0-3a01-4335-a1be-0850bf5c133e"
      },
      "source": [
        "li[:3]"
      ],
      "execution_count": 0,
      "outputs": [
        {
          "output_type": "execute_result",
          "data": {
            "text/plain": [
              "[1, 2, 4]"
            ]
          },
          "metadata": {
            "tags": []
          },
          "execution_count": 52
        }
      ]
    },
    {
      "cell_type": "code",
      "metadata": {
        "id": "XyB8z6ReCjSs",
        "colab_type": "code",
        "colab": {},
        "outputId": "4a183749-c944-4307-f719-638e748fac41"
      },
      "source": [
        "#li[開始:終了:刻み]の形式\n",
        "li[::2]"
      ],
      "execution_count": 0,
      "outputs": [
        {
          "output_type": "execute_result",
          "data": {
            "text/plain": [
              "[1, 4]"
            ]
          },
          "metadata": {
            "tags": []
          },
          "execution_count": 53
        }
      ]
    },
    {
      "cell_type": "code",
      "metadata": {
        "id": "-BC6MW-gCjSu",
        "colab_type": "code",
        "colab": {},
        "outputId": "cf757c7c-e634-410c-de04-93b10352e403"
      },
      "source": [
        "li[::-1]"
      ],
      "execution_count": 0,
      "outputs": [
        {
          "output_type": "execute_result",
          "data": {
            "text/plain": [
              "[3, 4, 2, 1]"
            ]
          },
          "metadata": {
            "tags": []
          },
          "execution_count": 54
        }
      ]
    },
    {
      "cell_type": "code",
      "metadata": {
        "id": "QEPbUu8zCjSw",
        "colab_type": "code",
        "colab": {}
      },
      "source": [
        "del li[2]"
      ],
      "execution_count": 0,
      "outputs": []
    },
    {
      "cell_type": "code",
      "metadata": {
        "id": "dfF_dTO2CjSy",
        "colab_type": "code",
        "colab": {},
        "outputId": "a7c8c56b-21ca-4bfd-e607-6c969f04fde3"
      },
      "source": [
        "li"
      ],
      "execution_count": 0,
      "outputs": [
        {
          "output_type": "execute_result",
          "data": {
            "text/plain": [
              "[1, 2, 3]"
            ]
          },
          "metadata": {
            "tags": []
          },
          "execution_count": 56
        }
      ]
    },
    {
      "cell_type": "code",
      "metadata": {
        "id": "-jToLC_YCjS1",
        "colab_type": "code",
        "colab": {}
      },
      "source": [
        "li.remove(2)"
      ],
      "execution_count": 0,
      "outputs": []
    },
    {
      "cell_type": "code",
      "metadata": {
        "id": "zI7Mb81LCjS3",
        "colab_type": "code",
        "colab": {},
        "outputId": "f0b0556d-4272-46e0-9e15-5f16cad81db6"
      },
      "source": [
        "li"
      ],
      "execution_count": 0,
      "outputs": [
        {
          "output_type": "execute_result",
          "data": {
            "text/plain": [
              "[1, 3]"
            ]
          },
          "metadata": {
            "tags": []
          },
          "execution_count": 58
        }
      ]
    },
    {
      "cell_type": "code",
      "metadata": {
        "id": "4PK5qx5nCjS6",
        "colab_type": "code",
        "colab": {}
      },
      "source": [
        "li.insert(1,1000)"
      ],
      "execution_count": 0,
      "outputs": []
    },
    {
      "cell_type": "code",
      "metadata": {
        "id": "U--o990TCjS8",
        "colab_type": "code",
        "colab": {},
        "outputId": "1a378e76-ec5d-482b-f493-5d42285895b0"
      },
      "source": [
        "[1,2,3] + [10,20]"
      ],
      "execution_count": 0,
      "outputs": [
        {
          "output_type": "execute_result",
          "data": {
            "text/plain": [
              "[1, 2, 3, 10, 20]"
            ]
          },
          "metadata": {
            "tags": []
          },
          "execution_count": 60
        }
      ]
    },
    {
      "cell_type": "code",
      "metadata": {
        "id": "1ZHinF4yCjS-",
        "colab_type": "code",
        "colab": {}
      },
      "source": [
        "li = [1,2,3]"
      ],
      "execution_count": 0,
      "outputs": []
    },
    {
      "cell_type": "code",
      "metadata": {
        "id": "HuY5jbzpCjTA",
        "colab_type": "code",
        "colab": {}
      },
      "source": [
        "li.extend([1,2,3])"
      ],
      "execution_count": 0,
      "outputs": []
    },
    {
      "cell_type": "code",
      "metadata": {
        "id": "LWj-ubvxCjTD",
        "colab_type": "code",
        "colab": {},
        "outputId": "d1943078-b84b-4d75-fd51-1aaa738ae808"
      },
      "source": [
        "li"
      ],
      "execution_count": 0,
      "outputs": [
        {
          "output_type": "execute_result",
          "data": {
            "text/plain": [
              "[1, 2, 3, 1, 2, 3]"
            ]
          },
          "metadata": {
            "tags": []
          },
          "execution_count": 63
        }
      ]
    },
    {
      "cell_type": "code",
      "metadata": {
        "id": "gZhmn3tdCjTF",
        "colab_type": "code",
        "colab": {},
        "outputId": "faae9c60-aa45-494d-b0c4-b16f6008c194"
      },
      "source": [
        "#Length\n",
        "len(li)"
      ],
      "execution_count": 0,
      "outputs": [
        {
          "output_type": "execute_result",
          "data": {
            "text/plain": [
              "6"
            ]
          },
          "metadata": {
            "tags": []
          },
          "execution_count": 64
        }
      ]
    },
    {
      "cell_type": "code",
      "metadata": {
        "id": "8ByhDmMbCjTH",
        "colab_type": "code",
        "colab": {},
        "outputId": "23c79e3c-d3e0-4031-a269-43b540315313"
      },
      "source": [
        "len(\"This is works for strings too\")"
      ],
      "execution_count": 0,
      "outputs": [
        {
          "output_type": "execute_result",
          "data": {
            "text/plain": [
              "29"
            ]
          },
          "metadata": {
            "tags": []
          },
          "execution_count": 65
        }
      ]
    },
    {
      "cell_type": "code",
      "metadata": {
        "id": "Ju6PyfDHCjTK",
        "colab_type": "code",
        "colab": {},
        "outputId": "76c2e73b-7cd3-44dc-9133-ddf2d1ceb98a"
      },
      "source": [
        "1 in li"
      ],
      "execution_count": 0,
      "outputs": [
        {
          "output_type": "execute_result",
          "data": {
            "text/plain": [
              "True"
            ]
          },
          "metadata": {
            "tags": []
          },
          "execution_count": 66
        }
      ]
    },
    {
      "cell_type": "code",
      "metadata": {
        "id": "J-jiNpjlCjTO",
        "colab_type": "code",
        "colab": {},
        "outputId": "8916a463-4b92-4788-d503-9248dd98e867"
      },
      "source": [
        "li.index(2)"
      ],
      "execution_count": 0,
      "outputs": [
        {
          "output_type": "execute_result",
          "data": {
            "text/plain": [
              "1"
            ]
          },
          "metadata": {
            "tags": []
          },
          "execution_count": 67
        }
      ]
    },
    {
      "cell_type": "code",
      "metadata": {
        "id": "Piu7iN6HCjTQ",
        "colab_type": "code",
        "colab": {}
      },
      "source": [
        "#タプル、リストに似ているが、不変である点が異なる、作成後に要素の追加や削除ができない\n",
        "tup = (1,2,3)"
      ],
      "execution_count": 0,
      "outputs": []
    },
    {
      "cell_type": "code",
      "metadata": {
        "id": "yIQVkOksCjTW",
        "colab_type": "code",
        "colab": {},
        "outputId": "23c276a4-5730-4123-aac7-e856b5369968"
      },
      "source": [
        "tup[0]"
      ],
      "execution_count": 0,
      "outputs": [
        {
          "output_type": "execute_result",
          "data": {
            "text/plain": [
              "1"
            ]
          },
          "metadata": {
            "tags": []
          },
          "execution_count": 69
        }
      ]
    },
    {
      "cell_type": "code",
      "metadata": {
        "id": "YcJLe9WDCjTY",
        "colab_type": "code",
        "colab": {},
        "outputId": "2f4b07e8-1c1f-4329-8c44-6ce7cd6d55f3"
      },
      "source": [
        "type((1))"
      ],
      "execution_count": 0,
      "outputs": [
        {
          "output_type": "execute_result",
          "data": {
            "text/plain": [
              "int"
            ]
          },
          "metadata": {
            "tags": []
          },
          "execution_count": 70
        }
      ]
    },
    {
      "cell_type": "code",
      "metadata": {
        "id": "kPZF91nOCjTb",
        "colab_type": "code",
        "colab": {},
        "outputId": "b3dae6c7-9033-44bd-cbe9-6a08817d57fe"
      },
      "source": [
        "type((1,))"
      ],
      "execution_count": 0,
      "outputs": [
        {
          "output_type": "execute_result",
          "data": {
            "text/plain": [
              "tuple"
            ]
          },
          "metadata": {
            "tags": []
          },
          "execution_count": 71
        }
      ]
    },
    {
      "cell_type": "code",
      "metadata": {
        "id": "TBIb3bvmCjTe",
        "colab_type": "code",
        "colab": {},
        "outputId": "677212b2-64bf-45f4-e773-e7f24358e369"
      },
      "source": [
        "len(tup)"
      ],
      "execution_count": 0,
      "outputs": [
        {
          "output_type": "execute_result",
          "data": {
            "text/plain": [
              "3"
            ]
          },
          "metadata": {
            "tags": []
          },
          "execution_count": 72
        }
      ]
    },
    {
      "cell_type": "code",
      "metadata": {
        "id": "HV1IRXDWCjTg",
        "colab_type": "code",
        "colab": {},
        "outputId": "da22761b-534f-4198-f080-a6ddc344e17b"
      },
      "source": [
        "tup + (4,5,6)"
      ],
      "execution_count": 0,
      "outputs": [
        {
          "output_type": "execute_result",
          "data": {
            "text/plain": [
              "(1, 2, 3, 4, 5, 6)"
            ]
          },
          "metadata": {
            "tags": []
          },
          "execution_count": 73
        }
      ]
    },
    {
      "cell_type": "code",
      "metadata": {
        "id": "3iUw3JhMCjTk",
        "colab_type": "code",
        "colab": {},
        "outputId": "1e851e6c-e93d-4a3a-d7ca-a64f2e8dfa4d"
      },
      "source": [
        "tup[:2]"
      ],
      "execution_count": 0,
      "outputs": [
        {
          "output_type": "execute_result",
          "data": {
            "text/plain": [
              "(1, 2)"
            ]
          },
          "metadata": {
            "tags": []
          },
          "execution_count": 74
        }
      ]
    },
    {
      "cell_type": "code",
      "metadata": {
        "id": "xqTaFW9FCjTo",
        "colab_type": "code",
        "colab": {},
        "outputId": "a4bcd5d2-3b01-4c3b-9474-d8807ded38ab"
      },
      "source": [
        "2 in tup"
      ],
      "execution_count": 0,
      "outputs": [
        {
          "output_type": "execute_result",
          "data": {
            "text/plain": [
              "True"
            ]
          },
          "metadata": {
            "tags": []
          },
          "execution_count": 75
        }
      ]
    },
    {
      "cell_type": "code",
      "metadata": {
        "id": "hg9_a75RCjTr",
        "colab_type": "code",
        "colab": {}
      },
      "source": [
        "a,b,c = (1,2,3) "
      ],
      "execution_count": 0,
      "outputs": []
    },
    {
      "cell_type": "code",
      "metadata": {
        "id": "w3oN0Xo4CjTu",
        "colab_type": "code",
        "colab": {}
      },
      "source": [
        "a,*b,c = (1,2,3,4)"
      ],
      "execution_count": 0,
      "outputs": []
    },
    {
      "cell_type": "code",
      "metadata": {
        "id": "vTTw9ZPPCjTw",
        "colab_type": "code",
        "colab": {},
        "outputId": "b2e61483-871e-43f8-9f0c-a2175f9df0e0"
      },
      "source": [
        "b"
      ],
      "execution_count": 0,
      "outputs": [
        {
          "output_type": "execute_result",
          "data": {
            "text/plain": [
              "[2, 3]"
            ]
          },
          "metadata": {
            "tags": []
          },
          "execution_count": 78
        }
      ]
    },
    {
      "cell_type": "code",
      "metadata": {
        "id": "rOyg8g6ZCjTz",
        "colab_type": "code",
        "colab": {}
      },
      "source": [
        "d,e,f = 4,5,6"
      ],
      "execution_count": 0,
      "outputs": []
    },
    {
      "cell_type": "code",
      "metadata": {
        "id": "hBybQiXTCjT1",
        "colab_type": "code",
        "colab": {},
        "outputId": "1c1e418d-a4ed-48d0-d688-f093da5c296d"
      },
      "source": [
        "f"
      ],
      "execution_count": 0,
      "outputs": [
        {
          "output_type": "execute_result",
          "data": {
            "text/plain": [
              "6"
            ]
          },
          "metadata": {
            "tags": []
          },
          "execution_count": 80
        }
      ]
    },
    {
      "cell_type": "code",
      "metadata": {
        "id": "qfN1A4u8CjT3",
        "colab_type": "code",
        "colab": {}
      },
      "source": [
        "e,d = d,e"
      ],
      "execution_count": 0,
      "outputs": []
    },
    {
      "cell_type": "code",
      "metadata": {
        "id": "S9z8Jh2sCjT7",
        "colab_type": "code",
        "colab": {}
      },
      "source": [
        "some_set = {1,1,2,2,3,4}"
      ],
      "execution_count": 0,
      "outputs": []
    },
    {
      "cell_type": "code",
      "metadata": {
        "id": "J-Ibq13hCjT9",
        "colab_type": "code",
        "colab": {}
      },
      "source": [
        "filled_set = some_set"
      ],
      "execution_count": 0,
      "outputs": []
    },
    {
      "cell_type": "code",
      "metadata": {
        "id": "8fCQdJhoCjT_",
        "colab_type": "code",
        "colab": {}
      },
      "source": [
        "filled_set.add(5)"
      ],
      "execution_count": 0,
      "outputs": []
    },
    {
      "cell_type": "code",
      "metadata": {
        "id": "F-UMqyskCjUB",
        "colab_type": "code",
        "colab": {}
      },
      "source": [
        "other_set = {3,4,5,6}"
      ],
      "execution_count": 0,
      "outputs": []
    },
    {
      "cell_type": "code",
      "metadata": {
        "id": "usJt5wLxCjUD",
        "colab_type": "code",
        "colab": {},
        "outputId": "8901810d-24e3-4c64-e562-b66565b6bb2b"
      },
      "source": [
        "filled_set & other_set"
      ],
      "execution_count": 0,
      "outputs": [
        {
          "output_type": "execute_result",
          "data": {
            "text/plain": [
              "{3, 4, 5}"
            ]
          },
          "metadata": {
            "tags": []
          },
          "execution_count": 88
        }
      ]
    },
    {
      "cell_type": "code",
      "metadata": {
        "id": "-4YWp-K4CjUG",
        "colab_type": "code",
        "colab": {},
        "outputId": "bdb596a1-8bb7-4547-bf10-cea8f4b97164"
      },
      "source": [
        "filled_set | other_set"
      ],
      "execution_count": 0,
      "outputs": [
        {
          "output_type": "execute_result",
          "data": {
            "text/plain": [
              "{1, 2, 3, 4, 5, 6}"
            ]
          },
          "metadata": {
            "tags": []
          },
          "execution_count": 89
        }
      ]
    },
    {
      "cell_type": "code",
      "metadata": {
        "id": "3q0TFT3-CjUJ",
        "colab_type": "code",
        "colab": {},
        "outputId": "289244d1-1527-4977-9222-d4192c5ad55e"
      },
      "source": [
        "{1,2,3,4} - {2,3,5}"
      ],
      "execution_count": 0,
      "outputs": [
        {
          "output_type": "execute_result",
          "data": {
            "text/plain": [
              "{1, 4}"
            ]
          },
          "metadata": {
            "tags": []
          },
          "execution_count": 90
        }
      ]
    },
    {
      "cell_type": "code",
      "metadata": {
        "id": "7NFJr7NWCjUP",
        "colab_type": "code",
        "colab": {},
        "outputId": "bdcd8f07-faec-4b66-cb84-97006a725646"
      },
      "source": [
        "{1,2} >= {1,2,3}"
      ],
      "execution_count": 0,
      "outputs": [
        {
          "output_type": "execute_result",
          "data": {
            "text/plain": [
              "False"
            ]
          },
          "metadata": {
            "tags": []
          },
          "execution_count": 91
        }
      ]
    },
    {
      "cell_type": "code",
      "metadata": {
        "id": "rylXx-I7CjUQ",
        "colab_type": "code",
        "colab": {},
        "outputId": "9a280335-baad-498a-b906-03a16ef26fae"
      },
      "source": [
        "{1,2} <= {1,2,3}"
      ],
      "execution_count": 0,
      "outputs": [
        {
          "output_type": "execute_result",
          "data": {
            "text/plain": [
              "True"
            ]
          },
          "metadata": {
            "tags": []
          },
          "execution_count": 92
        }
      ]
    },
    {
      "cell_type": "code",
      "metadata": {
        "id": "dKS1CbBxCjUT",
        "colab_type": "code",
        "colab": {},
        "outputId": "bd137c4b-3145-4587-c21b-339216df551f"
      },
      "source": [
        "2 in filled_set"
      ],
      "execution_count": 0,
      "outputs": [
        {
          "output_type": "execute_result",
          "data": {
            "text/plain": [
              "True"
            ]
          },
          "metadata": {
            "tags": []
          },
          "execution_count": 93
        }
      ]
    },
    {
      "cell_type": "code",
      "metadata": {
        "id": "MPrPAsnUCjUU",
        "colab_type": "code",
        "colab": {}
      },
      "source": [
        "#dictionary\n",
        "empty_dict = {}\n",
        "filled_dict = {\"one\":1, \"two\":2, \"three\":3} "
      ],
      "execution_count": 0,
      "outputs": []
    },
    {
      "cell_type": "code",
      "metadata": {
        "id": "NyutkeR7CjUX",
        "colab_type": "code",
        "colab": {},
        "outputId": "07f898c9-99de-4313-e698-99a04e855724"
      },
      "source": [
        "filled_dict[\"one\"]"
      ],
      "execution_count": 0,
      "outputs": [
        {
          "output_type": "execute_result",
          "data": {
            "text/plain": [
              "1"
            ]
          },
          "metadata": {
            "tags": []
          },
          "execution_count": 95
        }
      ]
    },
    {
      "cell_type": "code",
      "metadata": {
        "id": "uFfBVW5eCjUY",
        "colab_type": "code",
        "colab": {},
        "outputId": "a7f3ecf7-4e04-4c2e-d63f-f3460e870478"
      },
      "source": [
        "list(filled_dict.keys())"
      ],
      "execution_count": 0,
      "outputs": [
        {
          "output_type": "execute_result",
          "data": {
            "text/plain": [
              "['one', 'two', 'three']"
            ]
          },
          "metadata": {
            "tags": []
          },
          "execution_count": 96
        }
      ]
    },
    {
      "cell_type": "code",
      "metadata": {
        "id": "A6fq2cTACjUb",
        "colab_type": "code",
        "colab": {},
        "outputId": "7272f20e-725b-4283-9c69-f5e4d7b3e37b"
      },
      "source": [
        "list(filled_dict.values())"
      ],
      "execution_count": 0,
      "outputs": [
        {
          "output_type": "execute_result",
          "data": {
            "text/plain": [
              "[1, 2, 3]"
            ]
          },
          "metadata": {
            "tags": []
          },
          "execution_count": 97
        }
      ]
    },
    {
      "cell_type": "code",
      "metadata": {
        "id": "N_M5cDYECjUe",
        "colab_type": "code",
        "colab": {},
        "outputId": "bab8aae9-8f92-47bb-a6d3-b245f023c5d8"
      },
      "source": [
        "\"one\" in filled_dict"
      ],
      "execution_count": 0,
      "outputs": [
        {
          "output_type": "execute_result",
          "data": {
            "text/plain": [
              "True"
            ]
          },
          "metadata": {
            "tags": []
          },
          "execution_count": 98
        }
      ]
    },
    {
      "cell_type": "code",
      "metadata": {
        "id": "sMtZL9hACjUg",
        "colab_type": "code",
        "colab": {},
        "outputId": "00e972ab-4e5b-42bf-8938-aa7ab1f52d52"
      },
      "source": [
        "1 in filled_dict"
      ],
      "execution_count": 0,
      "outputs": [
        {
          "output_type": "execute_result",
          "data": {
            "text/plain": [
              "False"
            ]
          },
          "metadata": {
            "tags": []
          },
          "execution_count": 99
        }
      ]
    },
    {
      "cell_type": "code",
      "metadata": {
        "id": "nDZBJFNgCjUj",
        "colab_type": "code",
        "colab": {},
        "outputId": "101c3efb-c454-4a08-81a3-0e161616d8e3"
      },
      "source": [
        "filled_dict.get(\"one\")"
      ],
      "execution_count": 0,
      "outputs": [
        {
          "output_type": "execute_result",
          "data": {
            "text/plain": [
              "1"
            ]
          },
          "metadata": {
            "tags": []
          },
          "execution_count": 100
        }
      ]
    },
    {
      "cell_type": "code",
      "metadata": {
        "id": "2lhVsClQCjUl",
        "colab_type": "code",
        "colab": {}
      },
      "source": [
        "filled_dict.get(\"four\")"
      ],
      "execution_count": 0,
      "outputs": []
    },
    {
      "cell_type": "code",
      "metadata": {
        "id": "GNQFq3D_CjUs",
        "colab_type": "code",
        "colab": {},
        "outputId": "d16f7f64-9313-44fb-e14a-ca949d4a772c"
      },
      "source": [
        "filled_dict.get(\"four\",4)"
      ],
      "execution_count": 0,
      "outputs": [
        {
          "output_type": "execute_result",
          "data": {
            "text/plain": [
              "4"
            ]
          },
          "metadata": {
            "tags": []
          },
          "execution_count": 102
        }
      ]
    },
    {
      "cell_type": "code",
      "metadata": {
        "id": "y5gHNY6PCjUt",
        "colab_type": "code",
        "colab": {}
      },
      "source": [
        "filled_dict.update({\"four\": 4})"
      ],
      "execution_count": 0,
      "outputs": []
    },
    {
      "cell_type": "code",
      "metadata": {
        "id": "Ot02uR-iCjUy",
        "colab_type": "code",
        "colab": {}
      },
      "source": [
        "filled_dict[\"four\"] = 4"
      ],
      "execution_count": 0,
      "outputs": []
    },
    {
      "cell_type": "code",
      "metadata": {
        "id": "JEHK9G9MCjU0",
        "colab_type": "code",
        "colab": {}
      },
      "source": [
        "del filled_dict[\"one\"]"
      ],
      "execution_count": 0,
      "outputs": []
    },
    {
      "cell_type": "code",
      "metadata": {
        "id": "w-bqC3-pCjU2",
        "colab_type": "code",
        "colab": {}
      },
      "source": [
        "some_var = 10"
      ],
      "execution_count": 0,
      "outputs": []
    },
    {
      "cell_type": "code",
      "metadata": {
        "id": "yChUO8faCjU3",
        "colab_type": "code",
        "colab": {},
        "outputId": "6fb735ae-f6de-4536-b8cd-ca3a1e0199c6"
      },
      "source": [
        "if some_var > 1:\n",
        "    print(\"Bigger than 1\")"
      ],
      "execution_count": 0,
      "outputs": [
        {
          "output_type": "stream",
          "text": [
            "Bigger than 1\n"
          ],
          "name": "stdout"
        }
      ]
    },
    {
      "cell_type": "code",
      "metadata": {
        "id": "BUUS8-S9CjU4",
        "colab_type": "code",
        "colab": {},
        "outputId": "260877fa-e144-4318-8ee9-46d158998c3c"
      },
      "source": [
        "some_var = 10\n",
        "if some_var > 10:\n",
        "    print(\"Bigger than 10\")\n",
        "elif some_var > 5:\n",
        "    print(\"Bigge than 5\")\n",
        "else:\n",
        "    print(\"Smaller than or equal to 5\")\n",
        "            "
      ],
      "execution_count": 0,
      "outputs": [
        {
          "output_type": "stream",
          "text": [
            "Bigge than 5\n"
          ],
          "name": "stdout"
        }
      ]
    },
    {
      "cell_type": "code",
      "metadata": {
        "id": "bfsqRUH1CjU7",
        "colab_type": "code",
        "colab": {}
      },
      "source": [
        "some_list = [1,2,3]"
      ],
      "execution_count": 0,
      "outputs": []
    },
    {
      "cell_type": "code",
      "metadata": {
        "id": "0asDU_FgCjU9",
        "colab_type": "code",
        "colab": {}
      },
      "source": [
        "some_string = \"a string\""
      ],
      "execution_count": 0,
      "outputs": []
    },
    {
      "cell_type": "code",
      "metadata": {
        "id": "RjZXQEM3CjU-",
        "colab_type": "code",
        "colab": {},
        "outputId": "e1997192-0024-47b2-a367-bbfc0f585424"
      },
      "source": [
        "1 in some_list"
      ],
      "execution_count": 0,
      "outputs": [
        {
          "output_type": "execute_result",
          "data": {
            "text/plain": [
              "True"
            ]
          },
          "metadata": {
            "tags": []
          },
          "execution_count": 113
        }
      ]
    },
    {
      "cell_type": "code",
      "metadata": {
        "id": "5KObZNetCjVC",
        "colab_type": "code",
        "colab": {},
        "outputId": "de0021cf-45c0-4688-d9b6-beecbe09d419"
      },
      "source": [
        "\"string\" in some_string"
      ],
      "execution_count": 0,
      "outputs": [
        {
          "output_type": "execute_result",
          "data": {
            "text/plain": [
              "True"
            ]
          },
          "metadata": {
            "tags": []
          },
          "execution_count": 114
        }
      ]
    },
    {
      "cell_type": "code",
      "metadata": {
        "id": "emTFFL0ICjVF",
        "colab_type": "code",
        "colab": {},
        "outputId": "480d31b4-5e31-40a3-c7f0-46f3b08e3381"
      },
      "source": [
        "for num in some_list:\n",
        "    print(num)"
      ],
      "execution_count": 0,
      "outputs": [
        {
          "output_type": "stream",
          "text": [
            "1\n",
            "2\n",
            "3\n"
          ],
          "name": "stdout"
        }
      ]
    },
    {
      "cell_type": "code",
      "metadata": {
        "id": "TfZJf8GWCjVH",
        "colab_type": "code",
        "colab": {},
        "outputId": "e6ec5747-b33a-49e2-e790-9818d5641d19"
      },
      "source": [
        "for chr in some_string:\n",
        "    print(chr)"
      ],
      "execution_count": 0,
      "outputs": [
        {
          "output_type": "stream",
          "text": [
            "a\n",
            " \n",
            "s\n",
            "t\n",
            "r\n",
            "i\n",
            "n\n",
            "g\n"
          ],
          "name": "stdout"
        }
      ]
    },
    {
      "cell_type": "code",
      "metadata": {
        "id": "Hb92AHqQCjVM",
        "colab_type": "code",
        "colab": {},
        "outputId": "67960297-9635-4509-95dc-aaf7a32adbf7"
      },
      "source": [
        "range(3)"
      ],
      "execution_count": 0,
      "outputs": [
        {
          "output_type": "execute_result",
          "data": {
            "text/plain": [
              "range(0, 3)"
            ]
          },
          "metadata": {
            "tags": []
          },
          "execution_count": 118
        }
      ]
    },
    {
      "cell_type": "code",
      "metadata": {
        "id": "diJAvOTCCjVO",
        "colab_type": "code",
        "colab": {},
        "outputId": "791d356f-2651-4459-c7f9-4fa0ef751639"
      },
      "source": [
        "range(1,3)"
      ],
      "execution_count": 0,
      "outputs": [
        {
          "output_type": "execute_result",
          "data": {
            "text/plain": [
              "range(1, 3)"
            ]
          },
          "metadata": {
            "tags": []
          },
          "execution_count": 119
        }
      ]
    },
    {
      "cell_type": "code",
      "metadata": {
        "id": "n81icg7kCjVT",
        "colab_type": "code",
        "colab": {},
        "outputId": "7d4b3283-129d-4b11-aa11-632a4b72eeee"
      },
      "source": [
        "list(range(0,3))"
      ],
      "execution_count": 0,
      "outputs": [
        {
          "output_type": "execute_result",
          "data": {
            "text/plain": [
              "[0, 1, 2]"
            ]
          },
          "metadata": {
            "tags": []
          },
          "execution_count": 120
        }
      ]
    },
    {
      "cell_type": "code",
      "metadata": {
        "id": "vSsWjVxVCjVV",
        "colab_type": "code",
        "colab": {},
        "outputId": "7731fc94-4dbf-4bb8-9449-d4a302948287"
      },
      "source": [
        "for num in range(1,100,15):\n",
        "    print(num)"
      ],
      "execution_count": 0,
      "outputs": [
        {
          "output_type": "stream",
          "text": [
            "1\n",
            "16\n",
            "31\n",
            "46\n",
            "61\n",
            "76\n",
            "91\n"
          ],
          "name": "stdout"
        }
      ]
    },
    {
      "cell_type": "code",
      "metadata": {
        "id": "nT6N4-30CjVX",
        "colab_type": "code",
        "colab": {
          "base_uri": "https://localhost:8080/",
          "height": 867
        },
        "outputId": "8d24dbb4-1b2d-42de-a4c7-7498e7fe311a"
      },
      "source": [
        "x = 0\n",
        "while x < 100:\n",
        "    print(x)\n",
        "    x = x+2"
      ],
      "execution_count": 1,
      "outputs": [
        {
          "output_type": "stream",
          "text": [
            "0\n",
            "2\n",
            "4\n",
            "6\n",
            "8\n",
            "10\n",
            "12\n",
            "14\n",
            "16\n",
            "18\n",
            "20\n",
            "22\n",
            "24\n",
            "26\n",
            "28\n",
            "30\n",
            "32\n",
            "34\n",
            "36\n",
            "38\n",
            "40\n",
            "42\n",
            "44\n",
            "46\n",
            "48\n",
            "50\n",
            "52\n",
            "54\n",
            "56\n",
            "58\n",
            "60\n",
            "62\n",
            "64\n",
            "66\n",
            "68\n",
            "70\n",
            "72\n",
            "74\n",
            "76\n",
            "78\n",
            "80\n",
            "82\n",
            "84\n",
            "86\n",
            "88\n",
            "90\n",
            "92\n",
            "94\n",
            "96\n",
            "98\n"
          ],
          "name": "stdout"
        }
      ]
    },
    {
      "cell_type": "code",
      "metadata": {
        "id": "eGTL__ioCjVZ",
        "colab_type": "code",
        "colab": {}
      },
      "source": [
        "def add(x,y):\n",
        "    print(\"x is {} and y is {}\".format(x,y))\n",
        "    return x+y"
      ],
      "execution_count": 0,
      "outputs": []
    },
    {
      "cell_type": "code",
      "metadata": {
        "id": "PGJbwnv7CjVb",
        "colab_type": "code",
        "colab": {},
        "outputId": "47f7d39d-3987-4979-ba6f-e83dc62a25c8"
      },
      "source": [
        "add(5,6)"
      ],
      "execution_count": 0,
      "outputs": [
        {
          "output_type": "stream",
          "text": [
            "x is 5 and y is 6\n"
          ],
          "name": "stdout"
        },
        {
          "output_type": "execute_result",
          "data": {
            "text/plain": [
              "11"
            ]
          },
          "metadata": {
            "tags": []
          },
          "execution_count": 127
        }
      ]
    },
    {
      "cell_type": "code",
      "metadata": {
        "id": "ujdmt_qiCjVd",
        "colab_type": "code",
        "colab": {},
        "outputId": "5faa5258-878c-441a-ffd3-917552beefeb"
      },
      "source": [
        "add(y = 10, x= 5)"
      ],
      "execution_count": 0,
      "outputs": [
        {
          "output_type": "stream",
          "text": [
            "x is 5 and y is 10\n"
          ],
          "name": "stdout"
        },
        {
          "output_type": "execute_result",
          "data": {
            "text/plain": [
              "15"
            ]
          },
          "metadata": {
            "tags": []
          },
          "execution_count": 128
        }
      ]
    },
    {
      "cell_type": "code",
      "metadata": {
        "id": "VJdq4dbyCjVe",
        "colab_type": "code",
        "colab": {}
      },
      "source": [
        "#引数はタプルになる\n",
        "def many_arguments(*args):\n",
        "    print(args)"
      ],
      "execution_count": 0,
      "outputs": []
    },
    {
      "cell_type": "code",
      "metadata": {
        "id": "Zjau8DV3CjVg",
        "colab_type": "code",
        "colab": {},
        "outputId": "65661dd0-f400-4e37-9ba5-416f21467616"
      },
      "source": [
        "many_arguments(1,2,3)"
      ],
      "execution_count": 0,
      "outputs": [
        {
          "output_type": "stream",
          "text": [
            "(1, 2, 3)\n"
          ],
          "name": "stdout"
        }
      ]
    },
    {
      "cell_type": "code",
      "metadata": {
        "id": "1evk6SHvCjVi",
        "colab_type": "code",
        "colab": {}
      },
      "source": [
        "#引数は辞書になる\n",
        "def many_named_arguments(**kwargs):\n",
        "    print(kwargs)"
      ],
      "execution_count": 0,
      "outputs": []
    },
    {
      "cell_type": "code",
      "metadata": {
        "id": "LxxEKzaZCjVk",
        "colab_type": "code",
        "colab": {},
        "outputId": "2617097a-a3b4-4de6-ef60-86d71e5ae37d"
      },
      "source": [
        "many_named_arguments(a = 1, b = 2)"
      ],
      "execution_count": 0,
      "outputs": [
        {
          "output_type": "stream",
          "text": [
            "{'a': 1, 'b': 2}\n"
          ],
          "name": "stdout"
        }
      ]
    },
    {
      "cell_type": "code",
      "metadata": {
        "id": "IvrNG7yjCjVn",
        "colab_type": "code",
        "colab": {}
      },
      "source": [
        "def both_together(*args, **kwargs):\n",
        "    print(args,kwargs)"
      ],
      "execution_count": 0,
      "outputs": []
    },
    {
      "cell_type": "code",
      "metadata": {
        "id": "k-EP6LGHCjVq",
        "colab_type": "code",
        "colab": {},
        "outputId": "922ebfeb-2118-46b3-af40-4f89b97b3f60"
      },
      "source": [
        "l = [1,2]\n",
        "add(*l)"
      ],
      "execution_count": 0,
      "outputs": [
        {
          "output_type": "stream",
          "text": [
            "x is 1 and y is 2\n"
          ],
          "name": "stdout"
        },
        {
          "output_type": "execute_result",
          "data": {
            "text/plain": [
              "3"
            ]
          },
          "metadata": {
            "tags": []
          },
          "execution_count": 135
        }
      ]
    },
    {
      "cell_type": "code",
      "metadata": {
        "id": "X46n7OUJCjVs",
        "colab_type": "code",
        "colab": {},
        "outputId": "5f4fa51d-3118-4243-bd68-bbfbeeb2574c"
      },
      "source": [
        "d = {'a' : 2, 'b' : 1}\n",
        "add(**d)"
      ],
      "execution_count": 0,
      "outputs": [
        {
          "output_type": "error",
          "ename": "TypeError",
          "evalue": "add() got an unexpected keyword argument 'a'",
          "traceback": [
            "\u001b[0;31m---------------------------------------------------------------------------\u001b[0m",
            "\u001b[0;31mTypeError\u001b[0m                                 Traceback (most recent call last)",
            "\u001b[0;32m<ipython-input-137-6153475462f1>\u001b[0m in \u001b[0;36m<module>\u001b[0;34m\u001b[0m\n\u001b[1;32m      1\u001b[0m \u001b[0md\u001b[0m \u001b[0;34m=\u001b[0m \u001b[0;34m{\u001b[0m\u001b[0;34m'a'\u001b[0m \u001b[0;34m:\u001b[0m \u001b[0;36m2\u001b[0m\u001b[0;34m,\u001b[0m \u001b[0;34m'b'\u001b[0m \u001b[0;34m:\u001b[0m \u001b[0;36m1\u001b[0m\u001b[0;34m}\u001b[0m\u001b[0;34m\u001b[0m\u001b[0;34m\u001b[0m\u001b[0m\n\u001b[0;32m----> 2\u001b[0;31m \u001b[0madd\u001b[0m\u001b[0;34m(\u001b[0m\u001b[0;34m**\u001b[0m\u001b[0md\u001b[0m\u001b[0;34m)\u001b[0m\u001b[0;34m\u001b[0m\u001b[0;34m\u001b[0m\u001b[0m\n\u001b[0m",
            "\u001b[0;31mTypeError\u001b[0m: add() got an unexpected keyword argument 'a'"
          ]
        }
      ]
    },
    {
      "cell_type": "code",
      "metadata": {
        "id": "wU0V9spTCjVw",
        "colab_type": "code",
        "colab": {}
      },
      "source": [
        ""
      ],
      "execution_count": 0,
      "outputs": []
    }
  ]
}